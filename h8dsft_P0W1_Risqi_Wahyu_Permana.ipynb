{
  "cells": [
    {
      "attachments": {},
      "cell_type": "markdown",
      "metadata": {
        "id": "uhPU4-zX3Dwp"
      },
      "source": [
        "# Notebook Title\n",
        "\n",
        "Graded Challenge 1 <br>\n",
        "Nama : Risqi Wahyu Permana <br>\n",
        "Batch : HCK 006"
      ]
    },
    {
      "attachments": {},
      "cell_type": "markdown",
      "metadata": {
        "id": "eReFsgec3Dwp"
      },
      "source": [
        "## Description\n",
        "\n",
        "### Objective\n",
        "\n",
        "1. Melihat perbandingan jumlah kasus Covid-19 terkonfirmasi tiap prefektur di Jepang\n",
        "2. Melihat perbandingan angka kesembuhan setiap tahun pada negara Jepang \n",
        "\n",
        "3. Melihat perbandingan angka kematian setiap tahun pada negara Jepang \n",
        "4. Melihat perbandingan angka kesembuhan dan kematian pada negara Jepang\n",
        "5. Melihat perbandingan angka kesembuhan setiap tahun pada prefektur Tokyo\n",
        "6. Melihat perbandingan angka kematian setiap tahun pada prefektur Tokyo \n",
        "7. Melihat perbandingan angka aktif, kesembuhan dan kematian pada prefektur Tokyo \n",
        "8. Melihat perbandingan angka kesembuhan setiap tahun antara prefektur Kyoto dan Fukuoka\n",
        "9. Melihat perbandingan angka kematian setiap tahun antara prefektur Kyoto dan Fukuoka\n",
        "10. Melihat perbandingan angka aktif, kesembuhan dan kematian antara prefektur Kyoto dan Fukuoka"
      ]
    },
    {
      "attachments": {},
      "cell_type": "markdown",
      "metadata": {
        "id": "g-3u68Co3Dwq"
      },
      "source": [
        "# Working Area"
      ]
    },
    {
      "attachments": {},
      "cell_type": "markdown",
      "metadata": {
        "id": "BSRrq9Z76sz_"
      },
      "source": [
        "### Query yang dipakai di Google Cloud Platform\n",
        "```sql\n",
        "SELECT province_state, country_region, date, confirmed, recovered, deaths\n",
        "FROM bigquery-public-data.covid19_jhu_csse_eu.summary\n",
        "Where country_region = 'Japan'\n",
        "```"
      ]
    },
    {
      "attachments": {},
      "cell_type": "markdown",
      "metadata": {
        "id": "Mrk9rWik9WOq"
      },
      "source": [
        "## Import pustaka yang dibutuhkan"
      ]
    },
    {
      "cell_type": "code",
      "execution_count": 1,
      "metadata": {
        "id": "5EdNZ6P43Dwr"
      },
      "outputs": [],
      "source": [
        "import pandas as pd"
      ]
    },
    {
      "attachments": {},
      "cell_type": "markdown",
      "metadata": {
        "id": "iSivThi292wg"
      },
      "source": [
        "## Data Loading"
      ]
    },
    {
      "cell_type": "code",
      "execution_count": 2,
      "metadata": {
        "colab": {
          "base_uri": "https://localhost:8080/",
          "height": 206
        },
        "id": "Qu9wv2ZJ3Dws",
        "outputId": "1624af47-f95c-4c11-9fcc-6c3caead7e44"
      },
      "outputs": [
        {
          "data": {
            "text/html": [
              "<div>\n",
              "<style scoped>\n",
              "    .dataframe tbody tr th:only-of-type {\n",
              "        vertical-align: middle;\n",
              "    }\n",
              "\n",
              "    .dataframe tbody tr th {\n",
              "        vertical-align: top;\n",
              "    }\n",
              "\n",
              "    .dataframe thead th {\n",
              "        text-align: right;\n",
              "    }\n",
              "</style>\n",
              "<table border=\"1\" class=\"dataframe\">\n",
              "  <thead>\n",
              "    <tr style=\"text-align: right;\">\n",
              "      <th></th>\n",
              "      <th>province_state</th>\n",
              "      <th>country_region</th>\n",
              "      <th>date</th>\n",
              "      <th>confirmed</th>\n",
              "      <th>recovered</th>\n",
              "      <th>deaths</th>\n",
              "    </tr>\n",
              "  </thead>\n",
              "  <tbody>\n",
              "    <tr>\n",
              "      <th>0</th>\n",
              "      <td>NaN</td>\n",
              "      <td>Japan</td>\n",
              "      <td>2020-05-15</td>\n",
              "      <td>16203</td>\n",
              "      <td>10338.0</td>\n",
              "      <td>713.0</td>\n",
              "    </tr>\n",
              "    <tr>\n",
              "      <th>1</th>\n",
              "      <td>Aichi</td>\n",
              "      <td>Japan</td>\n",
              "      <td>2022-05-26</td>\n",
              "      <td>535610</td>\n",
              "      <td>NaN</td>\n",
              "      <td>2059.0</td>\n",
              "    </tr>\n",
              "    <tr>\n",
              "      <th>2</th>\n",
              "      <td>Akita</td>\n",
              "      <td>Japan</td>\n",
              "      <td>2022-05-26</td>\n",
              "      <td>29950</td>\n",
              "      <td>NaN</td>\n",
              "      <td>66.0</td>\n",
              "    </tr>\n",
              "    <tr>\n",
              "      <th>3</th>\n",
              "      <td>Aomori</td>\n",
              "      <td>Japan</td>\n",
              "      <td>2022-05-26</td>\n",
              "      <td>56834</td>\n",
              "      <td>NaN</td>\n",
              "      <td>104.0</td>\n",
              "    </tr>\n",
              "    <tr>\n",
              "      <th>4</th>\n",
              "      <td>Chiba</td>\n",
              "      <td>Japan</td>\n",
              "      <td>2022-05-26</td>\n",
              "      <td>446447</td>\n",
              "      <td>NaN</td>\n",
              "      <td>1774.0</td>\n",
              "    </tr>\n",
              "  </tbody>\n",
              "</table>\n",
              "</div>"
            ],
            "text/plain": [
              "  province_state country_region        date  confirmed  recovered  deaths\n",
              "0            NaN          Japan  2020-05-15      16203    10338.0   713.0\n",
              "1          Aichi          Japan  2022-05-26     535610        NaN  2059.0\n",
              "2          Akita          Japan  2022-05-26      29950        NaN    66.0\n",
              "3         Aomori          Japan  2022-05-26      56834        NaN   104.0\n",
              "4          Chiba          Japan  2022-05-26     446447        NaN  1774.0"
            ]
          },
          "execution_count": 2,
          "metadata": {},
          "output_type": "execute_result"
        }
      ],
      "source": [
        "japan_df = pd.read_csv('h8dsft_P0GC1_Risqi_Wahyu_Permana.csv')\n",
        "japan_df.head()"
      ]
    },
    {
      "cell_type": "code",
      "execution_count": 3,
      "metadata": {
        "colab": {
          "base_uri": "https://localhost:8080/",
          "height": 206
        },
        "id": "-mO8-WDX8d9D",
        "outputId": "c571e4ee-8c20-496b-d14f-812c7787a67a"
      },
      "outputs": [
        {
          "data": {
            "text/html": [
              "<div>\n",
              "<style scoped>\n",
              "    .dataframe tbody tr th:only-of-type {\n",
              "        vertical-align: middle;\n",
              "    }\n",
              "\n",
              "    .dataframe tbody tr th {\n",
              "        vertical-align: top;\n",
              "    }\n",
              "\n",
              "    .dataframe thead th {\n",
              "        text-align: right;\n",
              "    }\n",
              "</style>\n",
              "<table border=\"1\" class=\"dataframe\">\n",
              "  <thead>\n",
              "    <tr style=\"text-align: right;\">\n",
              "      <th></th>\n",
              "      <th>province_state</th>\n",
              "      <th>country_region</th>\n",
              "      <th>date</th>\n",
              "      <th>confirmed</th>\n",
              "      <th>recovered</th>\n",
              "      <th>deaths</th>\n",
              "    </tr>\n",
              "  </thead>\n",
              "  <tbody>\n",
              "    <tr>\n",
              "      <th>49855</th>\n",
              "      <td>Unknown</td>\n",
              "      <td>Japan</td>\n",
              "      <td>2022-09-29</td>\n",
              "      <td>8</td>\n",
              "      <td>NaN</td>\n",
              "      <td>0.0</td>\n",
              "    </tr>\n",
              "    <tr>\n",
              "      <th>49856</th>\n",
              "      <td>Wakayama</td>\n",
              "      <td>Japan</td>\n",
              "      <td>2022-09-29</td>\n",
              "      <td>132327</td>\n",
              "      <td>NaN</td>\n",
              "      <td>249.0</td>\n",
              "    </tr>\n",
              "    <tr>\n",
              "      <th>49857</th>\n",
              "      <td>Yamagata</td>\n",
              "      <td>Japan</td>\n",
              "      <td>2022-09-29</td>\n",
              "      <td>104587</td>\n",
              "      <td>NaN</td>\n",
              "      <td>194.0</td>\n",
              "    </tr>\n",
              "    <tr>\n",
              "      <th>49858</th>\n",
              "      <td>Yamaguchi</td>\n",
              "      <td>Japan</td>\n",
              "      <td>2022-09-29</td>\n",
              "      <td>162288</td>\n",
              "      <td>NaN</td>\n",
              "      <td>385.0</td>\n",
              "    </tr>\n",
              "    <tr>\n",
              "      <th>49859</th>\n",
              "      <td>Yamanashi</td>\n",
              "      <td>Japan</td>\n",
              "      <td>2022-09-29</td>\n",
              "      <td>95387</td>\n",
              "      <td>NaN</td>\n",
              "      <td>153.0</td>\n",
              "    </tr>\n",
              "  </tbody>\n",
              "</table>\n",
              "</div>"
            ],
            "text/plain": [
              "      province_state country_region        date  confirmed  recovered  deaths\n",
              "49855        Unknown          Japan  2022-09-29          8        NaN     0.0\n",
              "49856       Wakayama          Japan  2022-09-29     132327        NaN   249.0\n",
              "49857       Yamagata          Japan  2022-09-29     104587        NaN   194.0\n",
              "49858      Yamaguchi          Japan  2022-09-29     162288        NaN   385.0\n",
              "49859      Yamanashi          Japan  2022-09-29      95387        NaN   153.0"
            ]
          },
          "execution_count": 3,
          "metadata": {},
          "output_type": "execute_result"
        }
      ],
      "source": [
        "japan_df.tail()"
      ]
    },
    {
      "attachments": {},
      "cell_type": "markdown",
      "metadata": {},
      "source": [
        "Merubah nama kolom province_state menjadi prefektur karena sebutan <br>\n",
        "daerah di Jepang yang terbagi - bagi ke cakupan wilayah kecil disebut prefektur"
      ]
    },
    {
      "cell_type": "code",
      "execution_count": 4,
      "metadata": {},
      "outputs": [
        {
          "data": {
            "text/html": [
              "<div>\n",
              "<style scoped>\n",
              "    .dataframe tbody tr th:only-of-type {\n",
              "        vertical-align: middle;\n",
              "    }\n",
              "\n",
              "    .dataframe tbody tr th {\n",
              "        vertical-align: top;\n",
              "    }\n",
              "\n",
              "    .dataframe thead th {\n",
              "        text-align: right;\n",
              "    }\n",
              "</style>\n",
              "<table border=\"1\" class=\"dataframe\">\n",
              "  <thead>\n",
              "    <tr style=\"text-align: right;\">\n",
              "      <th></th>\n",
              "      <th>prefecture</th>\n",
              "      <th>country_region</th>\n",
              "      <th>date</th>\n",
              "      <th>confirmed</th>\n",
              "      <th>recovered</th>\n",
              "      <th>deaths</th>\n",
              "    </tr>\n",
              "  </thead>\n",
              "  <tbody>\n",
              "    <tr>\n",
              "      <th>0</th>\n",
              "      <td>NaN</td>\n",
              "      <td>Japan</td>\n",
              "      <td>2020-05-15</td>\n",
              "      <td>16203</td>\n",
              "      <td>10338.0</td>\n",
              "      <td>713.0</td>\n",
              "    </tr>\n",
              "    <tr>\n",
              "      <th>1</th>\n",
              "      <td>Aichi</td>\n",
              "      <td>Japan</td>\n",
              "      <td>2022-05-26</td>\n",
              "      <td>535610</td>\n",
              "      <td>NaN</td>\n",
              "      <td>2059.0</td>\n",
              "    </tr>\n",
              "    <tr>\n",
              "      <th>2</th>\n",
              "      <td>Akita</td>\n",
              "      <td>Japan</td>\n",
              "      <td>2022-05-26</td>\n",
              "      <td>29950</td>\n",
              "      <td>NaN</td>\n",
              "      <td>66.0</td>\n",
              "    </tr>\n",
              "    <tr>\n",
              "      <th>3</th>\n",
              "      <td>Aomori</td>\n",
              "      <td>Japan</td>\n",
              "      <td>2022-05-26</td>\n",
              "      <td>56834</td>\n",
              "      <td>NaN</td>\n",
              "      <td>104.0</td>\n",
              "    </tr>\n",
              "    <tr>\n",
              "      <th>4</th>\n",
              "      <td>Chiba</td>\n",
              "      <td>Japan</td>\n",
              "      <td>2022-05-26</td>\n",
              "      <td>446447</td>\n",
              "      <td>NaN</td>\n",
              "      <td>1774.0</td>\n",
              "    </tr>\n",
              "  </tbody>\n",
              "</table>\n",
              "</div>"
            ],
            "text/plain": [
              "  prefecture country_region        date  confirmed  recovered  deaths\n",
              "0        NaN          Japan  2020-05-15      16203    10338.0   713.0\n",
              "1      Aichi          Japan  2022-05-26     535610        NaN  2059.0\n",
              "2      Akita          Japan  2022-05-26      29950        NaN    66.0\n",
              "3     Aomori          Japan  2022-05-26      56834        NaN   104.0\n",
              "4      Chiba          Japan  2022-05-26     446447        NaN  1774.0"
            ]
          },
          "execution_count": 4,
          "metadata": {},
          "output_type": "execute_result"
        }
      ],
      "source": [
        "#change column name province_state to prefecture\n",
        "japan_df = japan_df.rename(columns={'province_state':'prefecture'})\n",
        "japan_df.head()"
      ]
    },
    {
      "cell_type": "code",
      "execution_count": 5,
      "metadata": {},
      "outputs": [
        {
          "data": {
            "text/html": [
              "<div>\n",
              "<style scoped>\n",
              "    .dataframe tbody tr th:only-of-type {\n",
              "        vertical-align: middle;\n",
              "    }\n",
              "\n",
              "    .dataframe tbody tr th {\n",
              "        vertical-align: top;\n",
              "    }\n",
              "\n",
              "    .dataframe thead th {\n",
              "        text-align: right;\n",
              "    }\n",
              "</style>\n",
              "<table border=\"1\" class=\"dataframe\">\n",
              "  <thead>\n",
              "    <tr style=\"text-align: right;\">\n",
              "      <th></th>\n",
              "      <th>prefecture</th>\n",
              "      <th>country_region</th>\n",
              "      <th>date</th>\n",
              "      <th>confirmed</th>\n",
              "      <th>recovered</th>\n",
              "      <th>deaths</th>\n",
              "    </tr>\n",
              "  </thead>\n",
              "  <tbody>\n",
              "    <tr>\n",
              "      <th>49855</th>\n",
              "      <td>Unknown</td>\n",
              "      <td>Japan</td>\n",
              "      <td>2022-09-29</td>\n",
              "      <td>8</td>\n",
              "      <td>NaN</td>\n",
              "      <td>0.0</td>\n",
              "    </tr>\n",
              "    <tr>\n",
              "      <th>49856</th>\n",
              "      <td>Wakayama</td>\n",
              "      <td>Japan</td>\n",
              "      <td>2022-09-29</td>\n",
              "      <td>132327</td>\n",
              "      <td>NaN</td>\n",
              "      <td>249.0</td>\n",
              "    </tr>\n",
              "    <tr>\n",
              "      <th>49857</th>\n",
              "      <td>Yamagata</td>\n",
              "      <td>Japan</td>\n",
              "      <td>2022-09-29</td>\n",
              "      <td>104587</td>\n",
              "      <td>NaN</td>\n",
              "      <td>194.0</td>\n",
              "    </tr>\n",
              "    <tr>\n",
              "      <th>49858</th>\n",
              "      <td>Yamaguchi</td>\n",
              "      <td>Japan</td>\n",
              "      <td>2022-09-29</td>\n",
              "      <td>162288</td>\n",
              "      <td>NaN</td>\n",
              "      <td>385.0</td>\n",
              "    </tr>\n",
              "    <tr>\n",
              "      <th>49859</th>\n",
              "      <td>Yamanashi</td>\n",
              "      <td>Japan</td>\n",
              "      <td>2022-09-29</td>\n",
              "      <td>95387</td>\n",
              "      <td>NaN</td>\n",
              "      <td>153.0</td>\n",
              "    </tr>\n",
              "  </tbody>\n",
              "</table>\n",
              "</div>"
            ],
            "text/plain": [
              "      prefecture country_region        date  confirmed  recovered  deaths\n",
              "49855    Unknown          Japan  2022-09-29          8        NaN     0.0\n",
              "49856   Wakayama          Japan  2022-09-29     132327        NaN   249.0\n",
              "49857   Yamagata          Japan  2022-09-29     104587        NaN   194.0\n",
              "49858  Yamaguchi          Japan  2022-09-29     162288        NaN   385.0\n",
              "49859  Yamanashi          Japan  2022-09-29      95387        NaN   153.0"
            ]
          },
          "execution_count": 5,
          "metadata": {},
          "output_type": "execute_result"
        }
      ],
      "source": [
        "japan_df.tail()"
      ]
    },
    {
      "attachments": {},
      "cell_type": "markdown",
      "metadata": {},
      "source": [
        "Terdapat banyak nilai null pada kolom recovered"
      ]
    },
    {
      "attachments": {},
      "cell_type": "markdown",
      "metadata": {},
      "source": [
        "Melihat data yang null"
      ]
    },
    {
      "cell_type": "code",
      "execution_count": 6,
      "metadata": {},
      "outputs": [
        {
          "name": "stdout",
          "output_type": "stream",
          "text": [
            "<class 'pandas.core.frame.DataFrame'>\n",
            "RangeIndex: 49860 entries, 0 to 49859\n",
            "Data columns (total 6 columns):\n",
            " #   Column          Non-Null Count  Dtype  \n",
            "---  ------          --------------  -----  \n",
            " 0   prefecture      49733 non-null  object \n",
            " 1   country_region  49860 non-null  object \n",
            " 2   date            49860 non-null  object \n",
            " 3   confirmed       49860 non-null  int64  \n",
            " 4   recovered       21338 non-null  float64\n",
            " 5   deaths          49850 non-null  float64\n",
            "dtypes: float64(2), int64(1), object(3)\n",
            "memory usage: 2.3+ MB\n"
          ]
        }
      ],
      "source": [
        "japan_df.info()"
      ]
    },
    {
      "cell_type": "code",
      "execution_count": 7,
      "metadata": {},
      "outputs": [
        {
          "data": {
            "text/plain": [
              "prefecture          127\n",
              "country_region        0\n",
              "date                  0\n",
              "confirmed             0\n",
              "recovered         28522\n",
              "deaths               10\n",
              "dtype: int64"
            ]
          },
          "execution_count": 7,
          "metadata": {},
          "output_type": "execute_result"
        }
      ],
      "source": [
        "#see standard missing value\n",
        "japan_df.isnull().sum()"
      ]
    },
    {
      "cell_type": "code",
      "execution_count": 8,
      "metadata": {},
      "outputs": [
        {
          "data": {
            "text/plain": [
              "0"
            ]
          },
          "execution_count": 8,
          "metadata": {},
          "output_type": "execute_result"
        }
      ],
      "source": [
        "#see duplicate value from japan_df\n",
        "japan_df.duplicated().sum()"
      ]
    },
    {
      "attachments": {},
      "cell_type": "markdown",
      "metadata": {
        "id": "5tRAJF8c-FWT"
      },
      "source": [
        "## Data Cleaning"
      ]
    },
    {
      "cell_type": "code",
      "execution_count": 9,
      "metadata": {
        "id": "LQM2YoMF-HpR"
      },
      "outputs": [
        {
          "data": {
            "text/plain": [
              "prefecture        49733\n",
              "country_region    49860\n",
              "date              49860\n",
              "confirmed         49860\n",
              "recovered         21338\n",
              "deaths            49850\n",
              "dtype: int64"
            ]
          },
          "execution_count": 9,
          "metadata": {},
          "output_type": "execute_result"
        }
      ],
      "source": [
        "#Data before cleaned\n",
        "japan_df.count()"
      ]
    },
    {
      "cell_type": "code",
      "execution_count": 10,
      "metadata": {},
      "outputs": [],
      "source": [
        "#Mencegah non standard missing value dengan mengubahnya menjadi standard missing value\n",
        "missing_values = [\"n/a\", \"na\", \"--\"]\n",
        "japan_df.replace(missing_values, 0, inplace=True)"
      ]
    },
    {
      "cell_type": "code",
      "execution_count": 11,
      "metadata": {},
      "outputs": [
        {
          "data": {
            "text/plain": [
              "prefecture        49860\n",
              "country_region    49860\n",
              "date              49860\n",
              "confirmed         49860\n",
              "recovered         49860\n",
              "deaths            49860\n",
              "dtype: int64"
            ]
          },
          "execution_count": 11,
          "metadata": {},
          "output_type": "execute_result"
        }
      ],
      "source": [
        "#Data after cleaned\n",
        "#Change NaN value with 0\n",
        "japan_df.fillna(0, inplace=True)\n",
        "japan_df.count()"
      ]
    },
    {
      "attachments": {},
      "cell_type": "markdown",
      "metadata": {
        "id": "ZU_QdpgA-IB1"
      },
      "source": [
        "## Explorasi Data"
      ]
    },
    {
      "attachments": {},
      "cell_type": "markdown",
      "metadata": {},
      "source": [
        "### Melakukan Query untuk mengambil data Covid dari prefektur Tokyo"
      ]
    },
    {
      "cell_type": "code",
      "execution_count": 12,
      "metadata": {},
      "outputs": [
        {
          "data": {
            "text/html": [
              "<div>\n",
              "<style scoped>\n",
              "    .dataframe tbody tr th:only-of-type {\n",
              "        vertical-align: middle;\n",
              "    }\n",
              "\n",
              "    .dataframe tbody tr th {\n",
              "        vertical-align: top;\n",
              "    }\n",
              "\n",
              "    .dataframe thead th {\n",
              "        text-align: right;\n",
              "    }\n",
              "</style>\n",
              "<table border=\"1\" class=\"dataframe\">\n",
              "  <thead>\n",
              "    <tr style=\"text-align: right;\">\n",
              "      <th></th>\n",
              "      <th>prefecture</th>\n",
              "      <th>country_region</th>\n",
              "      <th>date</th>\n",
              "      <th>confirmed</th>\n",
              "      <th>recovered</th>\n",
              "      <th>deaths</th>\n",
              "    </tr>\n",
              "  </thead>\n",
              "  <tbody>\n",
              "    <tr>\n",
              "      <th>42</th>\n",
              "      <td>Tokyo</td>\n",
              "      <td>Japan</td>\n",
              "      <td>2022-05-26</td>\n",
              "      <td>1529320</td>\n",
              "      <td>0.0</td>\n",
              "      <td>4474.0</td>\n",
              "    </tr>\n",
              "    <tr>\n",
              "      <th>92</th>\n",
              "      <td>Tokyo</td>\n",
              "      <td>Japan</td>\n",
              "      <td>2023-02-13</td>\n",
              "      <td>4299296</td>\n",
              "      <td>0.0</td>\n",
              "      <td>7820.0</td>\n",
              "    </tr>\n",
              "    <tr>\n",
              "      <th>141</th>\n",
              "      <td>Tokyo</td>\n",
              "      <td>Japan</td>\n",
              "      <td>2022-02-16</td>\n",
              "      <td>846120</td>\n",
              "      <td>0.0</td>\n",
              "      <td>3354.0</td>\n",
              "    </tr>\n",
              "    <tr>\n",
              "      <th>190</th>\n",
              "      <td>Tokyo</td>\n",
              "      <td>Japan</td>\n",
              "      <td>2021-05-26</td>\n",
              "      <td>158478</td>\n",
              "      <td>150274.0</td>\n",
              "      <td>2015.0</td>\n",
              "    </tr>\n",
              "    <tr>\n",
              "      <th>240</th>\n",
              "      <td>Tokyo</td>\n",
              "      <td>Japan</td>\n",
              "      <td>2021-10-06</td>\n",
              "      <td>376421</td>\n",
              "      <td>0.0</td>\n",
              "      <td>2975.0</td>\n",
              "    </tr>\n",
              "    <tr>\n",
              "      <th>...</th>\n",
              "      <td>...</td>\n",
              "      <td>...</td>\n",
              "      <td>...</td>\n",
              "      <td>...</td>\n",
              "      <td>...</td>\n",
              "      <td>...</td>\n",
              "    </tr>\n",
              "    <tr>\n",
              "      <th>49656</th>\n",
              "      <td>Tokyo</td>\n",
              "      <td>Japan</td>\n",
              "      <td>2022-04-29</td>\n",
              "      <td>1435784</td>\n",
              "      <td>0.0</td>\n",
              "      <td>4328.0</td>\n",
              "    </tr>\n",
              "    <tr>\n",
              "      <th>49705</th>\n",
              "      <td>Tokyo</td>\n",
              "      <td>Japan</td>\n",
              "      <td>2021-03-06</td>\n",
              "      <td>112448</td>\n",
              "      <td>108587.0</td>\n",
              "      <td>1451.0</td>\n",
              "    </tr>\n",
              "    <tr>\n",
              "      <th>49754</th>\n",
              "      <td>Tokyo</td>\n",
              "      <td>Japan</td>\n",
              "      <td>2022-01-10</td>\n",
              "      <td>388766</td>\n",
              "      <td>0.0</td>\n",
              "      <td>3175.0</td>\n",
              "    </tr>\n",
              "    <tr>\n",
              "      <th>49803</th>\n",
              "      <td>Tokyo</td>\n",
              "      <td>Japan</td>\n",
              "      <td>2023-02-25</td>\n",
              "      <td>4314088</td>\n",
              "      <td>0.0</td>\n",
              "      <td>7948.0</td>\n",
              "    </tr>\n",
              "    <tr>\n",
              "      <th>49852</th>\n",
              "      <td>Tokyo</td>\n",
              "      <td>Japan</td>\n",
              "      <td>2022-09-29</td>\n",
              "      <td>3154675</td>\n",
              "      <td>0.0</td>\n",
              "      <td>5798.0</td>\n",
              "    </tr>\n",
              "  </tbody>\n",
              "</table>\n",
              "<p>1016 rows × 6 columns</p>\n",
              "</div>"
            ],
            "text/plain": [
              "      prefecture country_region        date  confirmed  recovered  deaths\n",
              "42         Tokyo          Japan  2022-05-26    1529320        0.0  4474.0\n",
              "92         Tokyo          Japan  2023-02-13    4299296        0.0  7820.0\n",
              "141        Tokyo          Japan  2022-02-16     846120        0.0  3354.0\n",
              "190        Tokyo          Japan  2021-05-26     158478   150274.0  2015.0\n",
              "240        Tokyo          Japan  2021-10-06     376421        0.0  2975.0\n",
              "...          ...            ...         ...        ...        ...     ...\n",
              "49656      Tokyo          Japan  2022-04-29    1435784        0.0  4328.0\n",
              "49705      Tokyo          Japan  2021-03-06     112448   108587.0  1451.0\n",
              "49754      Tokyo          Japan  2022-01-10     388766        0.0  3175.0\n",
              "49803      Tokyo          Japan  2023-02-25    4314088        0.0  7948.0\n",
              "49852      Tokyo          Japan  2022-09-29    3154675        0.0  5798.0\n",
              "\n",
              "[1016 rows x 6 columns]"
            ]
          },
          "execution_count": 12,
          "metadata": {},
          "output_type": "execute_result"
        }
      ],
      "source": [
        "tokyo_df = japan_df[japan_df['prefecture'] == 'Tokyo']\n",
        "tokyo_df"
      ]
    },
    {
      "attachments": {},
      "cell_type": "markdown",
      "metadata": {},
      "source": [
        "Pada kolom recovered terdapat banyak nilai null"
      ]
    },
    {
      "cell_type": "code",
      "execution_count": 13,
      "metadata": {},
      "outputs": [
        {
          "name": "stdout",
          "output_type": "stream",
          "text": [
            "<class 'pandas.core.frame.DataFrame'>\n",
            "Int64Index: 1016 entries, 42 to 49852\n",
            "Data columns (total 6 columns):\n",
            " #   Column          Non-Null Count  Dtype  \n",
            "---  ------          --------------  -----  \n",
            " 0   prefecture      1016 non-null   object \n",
            " 1   country_region  1016 non-null   object \n",
            " 2   date            1016 non-null   object \n",
            " 3   confirmed       1016 non-null   int64  \n",
            " 4   recovered       1016 non-null   float64\n",
            " 5   deaths          1016 non-null   float64\n",
            "dtypes: float64(2), int64(1), object(3)\n",
            "memory usage: 55.6+ KB\n"
          ]
        }
      ],
      "source": [
        "tokyo_df.info()"
      ]
    },
    {
      "attachments": {},
      "cell_type": "markdown",
      "metadata": {},
      "source": [
        "### Melakukan Query untuk mengambil data Covid dari prefektur Kyoto dan Fukuoka"
      ]
    },
    {
      "cell_type": "code",
      "execution_count": 14,
      "metadata": {},
      "outputs": [
        {
          "data": {
            "text/html": [
              "<div>\n",
              "<style scoped>\n",
              "    .dataframe tbody tr th:only-of-type {\n",
              "        vertical-align: middle;\n",
              "    }\n",
              "\n",
              "    .dataframe tbody tr th {\n",
              "        vertical-align: top;\n",
              "    }\n",
              "\n",
              "    .dataframe thead th {\n",
              "        text-align: right;\n",
              "    }\n",
              "</style>\n",
              "<table border=\"1\" class=\"dataframe\">\n",
              "  <thead>\n",
              "    <tr style=\"text-align: right;\">\n",
              "      <th></th>\n",
              "      <th>prefecture</th>\n",
              "      <th>country_region</th>\n",
              "      <th>date</th>\n",
              "      <th>confirmed</th>\n",
              "      <th>recovered</th>\n",
              "      <th>deaths</th>\n",
              "    </tr>\n",
              "  </thead>\n",
              "  <tbody>\n",
              "    <tr>\n",
              "      <th>7</th>\n",
              "      <td>Fukuoka</td>\n",
              "      <td>Japan</td>\n",
              "      <td>2022-05-26</td>\n",
              "      <td>419036</td>\n",
              "      <td>0.0</td>\n",
              "      <td>1248.0</td>\n",
              "    </tr>\n",
              "    <tr>\n",
              "      <th>22</th>\n",
              "      <td>Kyoto</td>\n",
              "      <td>Japan</td>\n",
              "      <td>2022-05-26</td>\n",
              "      <td>201041</td>\n",
              "      <td>0.0</td>\n",
              "      <td>713.0</td>\n",
              "    </tr>\n",
              "    <tr>\n",
              "      <th>57</th>\n",
              "      <td>Fukuoka</td>\n",
              "      <td>Japan</td>\n",
              "      <td>2023-02-13</td>\n",
              "      <td>1565113</td>\n",
              "      <td>0.0</td>\n",
              "      <td>3072.0</td>\n",
              "    </tr>\n",
              "    <tr>\n",
              "      <th>72</th>\n",
              "      <td>Kyoto</td>\n",
              "      <td>Japan</td>\n",
              "      <td>2023-02-13</td>\n",
              "      <td>668474</td>\n",
              "      <td>0.0</td>\n",
              "      <td>1591.0</td>\n",
              "    </tr>\n",
              "    <tr>\n",
              "      <th>106</th>\n",
              "      <td>Fukuoka</td>\n",
              "      <td>Japan</td>\n",
              "      <td>2022-02-16</td>\n",
              "      <td>194690</td>\n",
              "      <td>0.0</td>\n",
              "      <td>777.0</td>\n",
              "    </tr>\n",
              "    <tr>\n",
              "      <th>...</th>\n",
              "      <td>...</td>\n",
              "      <td>...</td>\n",
              "      <td>...</td>\n",
              "      <td>...</td>\n",
              "      <td>...</td>\n",
              "      <td>...</td>\n",
              "    </tr>\n",
              "    <tr>\n",
              "      <th>49734</th>\n",
              "      <td>Kyoto</td>\n",
              "      <td>Japan</td>\n",
              "      <td>2022-01-10</td>\n",
              "      <td>37160</td>\n",
              "      <td>0.0</td>\n",
              "      <td>292.0</td>\n",
              "    </tr>\n",
              "    <tr>\n",
              "      <th>49768</th>\n",
              "      <td>Fukuoka</td>\n",
              "      <td>Japan</td>\n",
              "      <td>2023-02-25</td>\n",
              "      <td>1574748</td>\n",
              "      <td>0.0</td>\n",
              "      <td>3133.0</td>\n",
              "    </tr>\n",
              "    <tr>\n",
              "      <th>49783</th>\n",
              "      <td>Kyoto</td>\n",
              "      <td>Japan</td>\n",
              "      <td>2023-02-25</td>\n",
              "      <td>672250</td>\n",
              "      <td>0.0</td>\n",
              "      <td>1628.0</td>\n",
              "    </tr>\n",
              "    <tr>\n",
              "      <th>49817</th>\n",
              "      <td>Fukuoka</td>\n",
              "      <td>Japan</td>\n",
              "      <td>2022-09-29</td>\n",
              "      <td>1074697</td>\n",
              "      <td>0.0</td>\n",
              "      <td>1935.0</td>\n",
              "    </tr>\n",
              "    <tr>\n",
              "      <th>49832</th>\n",
              "      <td>Kyoto</td>\n",
              "      <td>Japan</td>\n",
              "      <td>2022-09-29</td>\n",
              "      <td>475063</td>\n",
              "      <td>0.0</td>\n",
              "      <td>1051.0</td>\n",
              "    </tr>\n",
              "  </tbody>\n",
              "</table>\n",
              "<p>2032 rows × 6 columns</p>\n",
              "</div>"
            ],
            "text/plain": [
              "      prefecture country_region        date  confirmed  recovered  deaths\n",
              "7        Fukuoka          Japan  2022-05-26     419036        0.0  1248.0\n",
              "22         Kyoto          Japan  2022-05-26     201041        0.0   713.0\n",
              "57       Fukuoka          Japan  2023-02-13    1565113        0.0  3072.0\n",
              "72         Kyoto          Japan  2023-02-13     668474        0.0  1591.0\n",
              "106      Fukuoka          Japan  2022-02-16     194690        0.0   777.0\n",
              "...          ...            ...         ...        ...        ...     ...\n",
              "49734      Kyoto          Japan  2022-01-10      37160        0.0   292.0\n",
              "49768    Fukuoka          Japan  2023-02-25    1574748        0.0  3133.0\n",
              "49783      Kyoto          Japan  2023-02-25     672250        0.0  1628.0\n",
              "49817    Fukuoka          Japan  2022-09-29    1074697        0.0  1935.0\n",
              "49832      Kyoto          Japan  2022-09-29     475063        0.0  1051.0\n",
              "\n",
              "[2032 rows x 6 columns]"
            ]
          },
          "execution_count": 14,
          "metadata": {},
          "output_type": "execute_result"
        }
      ],
      "source": [
        "kyoto_fukuoka_df = japan_df[(japan_df['prefecture'] == 'Kyoto') | (japan_df['prefecture'] == 'Fukuoka')]\n",
        "kyoto_fukuoka_df"
      ]
    },
    {
      "attachments": {},
      "cell_type": "markdown",
      "metadata": {},
      "source": [
        "Pada kolom recovered terdapat banyak nilai null"
      ]
    },
    {
      "cell_type": "code",
      "execution_count": 15,
      "metadata": {},
      "outputs": [
        {
          "name": "stdout",
          "output_type": "stream",
          "text": [
            "<class 'pandas.core.frame.DataFrame'>\n",
            "Int64Index: 2032 entries, 7 to 49832\n",
            "Data columns (total 6 columns):\n",
            " #   Column          Non-Null Count  Dtype  \n",
            "---  ------          --------------  -----  \n",
            " 0   prefecture      2032 non-null   object \n",
            " 1   country_region  2032 non-null   object \n",
            " 2   date            2032 non-null   object \n",
            " 3   confirmed       2032 non-null   int64  \n",
            " 4   recovered       2032 non-null   float64\n",
            " 5   deaths          2032 non-null   float64\n",
            "dtypes: float64(2), int64(1), object(3)\n",
            "memory usage: 111.1+ KB\n"
          ]
        }
      ],
      "source": [
        "kyoto_fukuoka_df.info()"
      ]
    },
    {
      "attachments": {},
      "cell_type": "markdown",
      "metadata": {},
      "source": [
        "### Mengecek nilai null"
      ]
    },
    {
      "cell_type": "code",
      "execution_count": 16,
      "metadata": {},
      "outputs": [
        {
          "name": "stdout",
          "output_type": "stream",
          "text": [
            "Japan\n",
            "prefecture        0\n",
            "country_region    0\n",
            "date              0\n",
            "confirmed         0\n",
            "recovered         0\n",
            "deaths            0\n",
            "dtype: int64 \n",
            "\n",
            "Tokyo\n",
            "prefecture        0\n",
            "country_region    0\n",
            "date              0\n",
            "confirmed         0\n",
            "recovered         0\n",
            "deaths            0\n",
            "dtype: int64 \n",
            "\n",
            "Kyoto and Fukuoka\n",
            "prefecture        0\n",
            "country_region    0\n",
            "date              0\n",
            "confirmed         0\n",
            "recovered         0\n",
            "deaths            0\n",
            "dtype: int64 \n",
            "\n"
          ]
        }
      ],
      "source": [
        "#check NaN value\n",
        "print(\"Japan\")\n",
        "print(japan_df.isnull().sum(),\"\\n\")\n",
        "\n",
        "print(\"Tokyo\")\n",
        "print(tokyo_df.isnull().sum(),\"\\n\")\n",
        "\n",
        "print(\"Kyoto and Fukuoka\")\n",
        "print(kyoto_fukuoka_df.isnull().sum(),\"\\n\")"
      ]
    },
    {
      "attachments": {},
      "cell_type": "markdown",
      "metadata": {},
      "source": [
        "Dataset sudah tidak terdapat data yang null"
      ]
    },
    {
      "attachments": {},
      "cell_type": "markdown",
      "metadata": {},
      "source": [
        "Menghapus kolom country_region dari query prefektur - prefektur pada Negara Jepang, karena akan membandingkan data pada negara yang sama yaitu Jepang."
      ]
    },
    {
      "cell_type": "code",
      "execution_count": 17,
      "metadata": {},
      "outputs": [
        {
          "name": "stderr",
          "output_type": "stream",
          "text": [
            "/var/folders/96/h0mb68mj6bv5f5b950lyjxt80000gn/T/ipykernel_37882/3175075387.py:2: SettingWithCopyWarning: \n",
            "A value is trying to be set on a copy of a slice from a DataFrame\n",
            "\n",
            "See the caveats in the documentation: https://pandas.pydata.org/pandas-docs/stable/user_guide/indexing.html#returning-a-view-versus-a-copy\n",
            "  tokyo_df.drop(columns=['country_region'], inplace=True)\n",
            "/var/folders/96/h0mb68mj6bv5f5b950lyjxt80000gn/T/ipykernel_37882/3175075387.py:3: SettingWithCopyWarning: \n",
            "A value is trying to be set on a copy of a slice from a DataFrame\n",
            "\n",
            "See the caveats in the documentation: https://pandas.pydata.org/pandas-docs/stable/user_guide/indexing.html#returning-a-view-versus-a-copy\n",
            "  kyoto_fukuoka_df.drop(columns=['country_region'], inplace=True)\n"
          ]
        }
      ],
      "source": [
        "#delete column country_region from tokyo_df\n",
        "tokyo_df.drop(columns=['country_region'], inplace=True)\n",
        "kyoto_fukuoka_df.drop(columns=['country_region'], inplace=True)"
      ]
    },
    {
      "attachments": {},
      "cell_type": "markdown",
      "metadata": {},
      "source": [
        "### Jepang"
      ]
    },
    {
      "cell_type": "code",
      "execution_count": 18,
      "metadata": {},
      "outputs": [
        {
          "data": {
            "text/html": [
              "<div>\n",
              "<style scoped>\n",
              "    .dataframe tbody tr th:only-of-type {\n",
              "        vertical-align: middle;\n",
              "    }\n",
              "\n",
              "    .dataframe tbody tr th {\n",
              "        vertical-align: top;\n",
              "    }\n",
              "\n",
              "    .dataframe thead th {\n",
              "        text-align: right;\n",
              "    }\n",
              "</style>\n",
              "<table border=\"1\" class=\"dataframe\">\n",
              "  <thead>\n",
              "    <tr style=\"text-align: right;\">\n",
              "      <th></th>\n",
              "      <th>prefecture</th>\n",
              "      <th>country_region</th>\n",
              "      <th>date</th>\n",
              "      <th>confirmed</th>\n",
              "      <th>recovered</th>\n",
              "      <th>deaths</th>\n",
              "      <th>year</th>\n",
              "    </tr>\n",
              "  </thead>\n",
              "  <tbody>\n",
              "    <tr>\n",
              "      <th>0</th>\n",
              "      <td>0</td>\n",
              "      <td>Japan</td>\n",
              "      <td>2020-05-15</td>\n",
              "      <td>16203</td>\n",
              "      <td>10338.0</td>\n",
              "      <td>713.0</td>\n",
              "      <td>2020</td>\n",
              "    </tr>\n",
              "    <tr>\n",
              "      <th>1</th>\n",
              "      <td>Aichi</td>\n",
              "      <td>Japan</td>\n",
              "      <td>2022-05-26</td>\n",
              "      <td>535610</td>\n",
              "      <td>0.0</td>\n",
              "      <td>2059.0</td>\n",
              "      <td>2022</td>\n",
              "    </tr>\n",
              "    <tr>\n",
              "      <th>2</th>\n",
              "      <td>Akita</td>\n",
              "      <td>Japan</td>\n",
              "      <td>2022-05-26</td>\n",
              "      <td>29950</td>\n",
              "      <td>0.0</td>\n",
              "      <td>66.0</td>\n",
              "      <td>2022</td>\n",
              "    </tr>\n",
              "    <tr>\n",
              "      <th>3</th>\n",
              "      <td>Aomori</td>\n",
              "      <td>Japan</td>\n",
              "      <td>2022-05-26</td>\n",
              "      <td>56834</td>\n",
              "      <td>0.0</td>\n",
              "      <td>104.0</td>\n",
              "      <td>2022</td>\n",
              "    </tr>\n",
              "    <tr>\n",
              "      <th>4</th>\n",
              "      <td>Chiba</td>\n",
              "      <td>Japan</td>\n",
              "      <td>2022-05-26</td>\n",
              "      <td>446447</td>\n",
              "      <td>0.0</td>\n",
              "      <td>1774.0</td>\n",
              "      <td>2022</td>\n",
              "    </tr>\n",
              "  </tbody>\n",
              "</table>\n",
              "</div>"
            ],
            "text/plain": [
              "  prefecture country_region       date  confirmed  recovered  deaths  year\n",
              "0          0          Japan 2020-05-15      16203    10338.0   713.0  2020\n",
              "1      Aichi          Japan 2022-05-26     535610        0.0  2059.0  2022\n",
              "2      Akita          Japan 2022-05-26      29950        0.0    66.0  2022\n",
              "3     Aomori          Japan 2022-05-26      56834        0.0   104.0  2022\n",
              "4      Chiba          Japan 2022-05-26     446447        0.0  1774.0  2022"
            ]
          },
          "execution_count": 18,
          "metadata": {},
          "output_type": "execute_result"
        }
      ],
      "source": [
        "japan_df['date'] = pd.to_datetime(japan_df['date'])\n",
        "japan_df['year'] = japan_df['date'].dt.year\n",
        "\n",
        "japan_df.head()"
      ]
    },
    {
      "attachments": {},
      "cell_type": "markdown",
      "metadata": {},
      "source": [
        "#### Perbandingan kasus Covid-19 terkonfirmasi pada setiap prefektur di Jepang"
      ]
    },
    {
      "cell_type": "code",
      "execution_count": 19,
      "metadata": {},
      "outputs": [
        {
          "data": {
            "text/plain": [
              "<AxesSubplot:title={'center':'Confirmed Covid-19 case in Each Prefecture'}, xlabel='prefecture'>"
            ]
          },
          "execution_count": 19,
          "metadata": {},
          "output_type": "execute_result"
        },
        {
          "data": {
            "image/png": "[encoded data removed]",
            "text/plain": [
              "<Figure size 640x480 with 1 Axes>"
            ]
          },
          "metadata": {},
          "output_type": "display_data"
        }
      ],
      "source": [
        "#visualize confirmed and case in each prefecture with bar chart\n",
        "japan_df.groupby('prefecture')['confirmed'].sum().plot(kind='bar', title='Confirmed Covid-19 case in Each Prefecture')"
      ]
    },
    {
      "attachments": {},
      "cell_type": "markdown",
      "metadata": {},
      "source": [
        "#### Perbandingan kematian pada Tokyo"
      ]
    },
    {
      "cell_type": "code",
      "execution_count": 20,
      "metadata": {},
      "outputs": [
        {
          "data": {
            "text/plain": [
              "<AxesSubplot:title={'center':'Death in Japan by Year'}, xlabel='year'>"
            ]
          },
          "execution_count": 20,
          "metadata": {},
          "output_type": "execute_result"
        },
        {
          "data": {
            "image/png": "[encoded data removed]",
            "text/plain": [
              "<Figure size 640x480 with 1 Axes>"
            ]
          },
          "metadata": {},
          "output_type": "display_data"
        }
      ],
      "source": [
        "#visualize death in japan by year with bar chart\n",
        "japan_df.groupby('year')['deaths'].sum().plot(kind='bar', title='Death in Japan by Year')\n"
      ]
    },
    {
      "attachments": {},
      "cell_type": "markdown",
      "metadata": {},
      "source": [
        "#### Perbandingan Kesembuhan pada Jepang"
      ]
    },
    {
      "cell_type": "code",
      "execution_count": 21,
      "metadata": {},
      "outputs": [
        {
          "data": {
            "text/plain": [
              "<AxesSubplot:title={'center':'Recovered in Japan by Year'}, xlabel='year'>"
            ]
          },
          "execution_count": 21,
          "metadata": {},
          "output_type": "execute_result"
        },
        {
          "data": {
            "image/png": "[encoded data removed]",
            "text/plain": [
              "<Figure size 640x480 with 1 Axes>"
            ]
          },
          "metadata": {},
          "output_type": "display_data"
        }
      ],
      "source": [
        "#visualize recovered in Japan by year with bar chart\n",
        "japan_df.groupby('year')['recovered'].sum().plot(kind='bar', title='Recovered in Japan by Year')"
      ]
    },
    {
      "attachments": {},
      "cell_type": "markdown",
      "metadata": {},
      "source": [
        "#### Perbandingan antara kematian dan kesembuhan pada Jepang"
      ]
    },
    {
      "cell_type": "code",
      "execution_count": 22,
      "metadata": {},
      "outputs": [
        {
          "name": "stderr",
          "output_type": "stream",
          "text": [
            "/var/folders/96/h0mb68mj6bv5f5b950lyjxt80000gn/T/ipykernel_37882/2024696210.py:2: FutureWarning: Indexing with multiple keys (implicitly converted to a tuple of keys) will be deprecated, use a list instead.\n",
            "  japan_df.groupby('year')['deaths','recovered'].sum().plot(kind='bar', title='Death and Recovered in Japan by Year')\n"
          ]
        },
        {
          "data": {
            "text/plain": [
              "<AxesSubplot:title={'center':'Death and Recovered in Japan by Year'}, xlabel='year'>"
            ]
          },
          "execution_count": 22,
          "metadata": {},
          "output_type": "execute_result"
        },
        {
          "data": {
            "image/png": "[encoded data removed]",
            "text/plain": [
              "<Figure size 640x480 with 1 Axes>"
            ]
          },
          "metadata": {},
          "output_type": "display_data"
        }
      ],
      "source": [
        "#Compare death and recovered in Japan by year with bar chart\n",
        "japan_df.groupby('year')['deaths','recovered'].sum().plot(kind='bar', title='Death and Recovered in Japan by Year')"
      ]
    },
    {
      "attachments": {},
      "cell_type": "markdown",
      "metadata": {},
      "source": [
        "### Tokyo"
      ]
    },
    {
      "cell_type": "code",
      "execution_count": 23,
      "metadata": {},
      "outputs": [
        {
          "name": "stderr",
          "output_type": "stream",
          "text": [
            "/var/folders/96/h0mb68mj6bv5f5b950lyjxt80000gn/T/ipykernel_37882/1137114530.py:1: SettingWithCopyWarning: \n",
            "A value is trying to be set on a copy of a slice from a DataFrame.\n",
            "Try using .loc[row_indexer,col_indexer] = value instead\n",
            "\n",
            "See the caveats in the documentation: https://pandas.pydata.org/pandas-docs/stable/user_guide/indexing.html#returning-a-view-versus-a-copy\n",
            "  tokyo_df['date'] = pd.to_datetime(tokyo_df['date'])\n",
            "/var/folders/96/h0mb68mj6bv5f5b950lyjxt80000gn/T/ipykernel_37882/1137114530.py:2: SettingWithCopyWarning: \n",
            "A value is trying to be set on a copy of a slice from a DataFrame.\n",
            "Try using .loc[row_indexer,col_indexer] = value instead\n",
            "\n",
            "See the caveats in the documentation: https://pandas.pydata.org/pandas-docs/stable/user_guide/indexing.html#returning-a-view-versus-a-copy\n",
            "  tokyo_df['year'] = tokyo_df['date'].dt.year\n"
          ]
        }
      ],
      "source": [
        "tokyo_df['date'] = pd.to_datetime(tokyo_df['date'])\n",
        "tokyo_df['year'] = tokyo_df['date'].dt.year"
      ]
    },
    {
      "attachments": {},
      "cell_type": "markdown",
      "metadata": {},
      "source": [
        "#### Perbandingan kematian pada Tokyo"
      ]
    },
    {
      "cell_type": "code",
      "execution_count": 24,
      "metadata": {},
      "outputs": [
        {
          "data": {
            "text/plain": [
              "<AxesSubplot:title={'center':'Death in Tokyo by Year'}, xlabel='year'>"
            ]
          },
          "execution_count": 24,
          "metadata": {},
          "output_type": "execute_result"
        },
        {
          "data": {
            "image/png": "[encoded data removed]",
            "text/plain": [
              "<Figure size 640x480 with 1 Axes>"
            ]
          },
          "metadata": {},
          "output_type": "display_data"
        }
      ],
      "source": [
        "#visualize death in Tokyo by year with bar chart\n",
        "tokyo_df.groupby('year')['deaths'].sum().plot(kind='bar', title='Death in Tokyo by Year')"
      ]
    },
    {
      "attachments": {},
      "cell_type": "markdown",
      "metadata": {},
      "source": [
        "#### Perbandingan kesembuhan pada Tokyo"
      ]
    },
    {
      "cell_type": "code",
      "execution_count": 25,
      "metadata": {},
      "outputs": [
        {
          "data": {
            "text/plain": [
              "<AxesSubplot:title={'center':'Recovered in Tokyo by Year'}, xlabel='year'>"
            ]
          },
          "execution_count": 25,
          "metadata": {},
          "output_type": "execute_result"
        },
        {
          "data": {
            "image/png": "[encoded data removed]",
            "text/plain": [
              "<Figure size 640x480 with 1 Axes>"
            ]
          },
          "metadata": {},
          "output_type": "display_data"
        }
      ],
      "source": [
        "#visualize recovered in Tokyo by year with bar chart\n",
        "tokyo_df.groupby('year')['recovered'].sum().plot(kind='bar', title='Recovered in Tokyo by Year')"
      ]
    },
    {
      "attachments": {},
      "cell_type": "markdown",
      "metadata": {},
      "source": [
        "#### Perbandingan antara kematian dan kesembuhan pada Tokyo"
      ]
    },
    {
      "cell_type": "code",
      "execution_count": 26,
      "metadata": {},
      "outputs": [
        {
          "name": "stderr",
          "output_type": "stream",
          "text": [
            "/var/folders/96/h0mb68mj6bv5f5b950lyjxt80000gn/T/ipykernel_37882/4009891598.py:2: FutureWarning: Indexing with multiple keys (implicitly converted to a tuple of keys) will be deprecated, use a list instead.\n",
            "  tokyo_df.groupby('year')['deaths','recovered'].sum().plot(kind='bar', title='Death and Recovered in Tokyo by Year')\n"
          ]
        },
        {
          "data": {
            "text/plain": [
              "<AxesSubplot:title={'center':'Death and Recovered in Tokyo by Year'}, xlabel='year'>"
            ]
          },
          "execution_count": 26,
          "metadata": {},
          "output_type": "execute_result"
        },
        {
          "data": {
            "image/png": "[encoded data removed]",
            "text/plain": [
              "<Figure size 640x480 with 1 Axes>"
            ]
          },
          "metadata": {},
          "output_type": "display_data"
        }
      ],
      "source": [
        "#Compare death and recovered in Tokyo by year with bar chart\n",
        "tokyo_df.groupby('year')['deaths','recovered'].sum().plot(kind='bar', title='Death and Recovered in Tokyo by Year')"
      ]
    },
    {
      "attachments": {},
      "cell_type": "markdown",
      "metadata": {},
      "source": [
        "### Kyoto dan Fukuoka"
      ]
    },
    {
      "attachments": {},
      "cell_type": "markdown",
      "metadata": {},
      "source": [
        "#### Perbandingan kematian pada Kyoto dan Osaka"
      ]
    },
    {
      "cell_type": "code",
      "execution_count": 27,
      "metadata": {},
      "outputs": [
        {
          "name": "stderr",
          "output_type": "stream",
          "text": [
            "/var/folders/96/h0mb68mj6bv5f5b950lyjxt80000gn/T/ipykernel_37882/3454536073.py:2: SettingWithCopyWarning: \n",
            "A value is trying to be set on a copy of a slice from a DataFrame.\n",
            "Try using .loc[row_indexer,col_indexer] = value instead\n",
            "\n",
            "See the caveats in the documentation: https://pandas.pydata.org/pandas-docs/stable/user_guide/indexing.html#returning-a-view-versus-a-copy\n",
            "  kyoto_fukuoka_df['date'] = pd.to_datetime(kyoto_fukuoka_df['date'])\n",
            "/var/folders/96/h0mb68mj6bv5f5b950lyjxt80000gn/T/ipykernel_37882/3454536073.py:3: SettingWithCopyWarning: \n",
            "A value is trying to be set on a copy of a slice from a DataFrame.\n",
            "Try using .loc[row_indexer,col_indexer] = value instead\n",
            "\n",
            "See the caveats in the documentation: https://pandas.pydata.org/pandas-docs/stable/user_guide/indexing.html#returning-a-view-versus-a-copy\n",
            "  kyoto_fukuoka_df['year'] = kyoto_fukuoka_df['date'].dt.year\n"
          ]
        },
        {
          "data": {
            "text/plain": [
              "<AxesSubplot:title={'center':'Death in Kyoto and Fukuoka by Year'}, xlabel='year'>"
            ]
          },
          "execution_count": 27,
          "metadata": {},
          "output_type": "execute_result"
        },
        {
          "data": {
            "image/png": "[encoded data removed]",
            "text/plain": [
              "<Figure size 640x480 with 1 Axes>"
            ]
          },
          "metadata": {},
          "output_type": "display_data"
        }
      ],
      "source": [
        "#compare death kyoto and fukuoka prefecture in Japan by year with bar chart\n",
        "kyoto_fukuoka_df['date'] = pd.to_datetime(kyoto_fukuoka_df['date'])\n",
        "kyoto_fukuoka_df['year'] = kyoto_fukuoka_df['date'].dt.year\n",
        "\n",
        "kyoto_fukuoka_df.groupby(['year','prefecture'])['deaths'].sum().unstack().plot(kind='bar', title='Death in Kyoto and Fukuoka by Year')"
      ]
    },
    {
      "attachments": {},
      "cell_type": "markdown",
      "metadata": {},
      "source": [
        "#### Perbandingan kesembuhan pada Kyoto dan Osaka"
      ]
    },
    {
      "cell_type": "code",
      "execution_count": 28,
      "metadata": {},
      "outputs": [
        {
          "data": {
            "text/plain": [
              "<AxesSubplot:title={'center':'Recovered in Kyoto and Fukuoka by Year'}, xlabel='year'>"
            ]
          },
          "execution_count": 28,
          "metadata": {},
          "output_type": "execute_result"
        },
        {
          "data": {
            "image/png": "[encoded data removed]",
            "text/plain": [
              "<Figure size 640x480 with 1 Axes>"
            ]
          },
          "metadata": {},
          "output_type": "display_data"
        }
      ],
      "source": [
        "#visualize recovered in Kyoto and Fukuoka by year with bar chart\n",
        "kyoto_fukuoka_df.groupby(['year','prefecture'])['recovered'].sum().unstack().plot(kind='bar', title='Recovered in Kyoto and Fukuoka by Year')"
      ]
    },
    {
      "attachments": {},
      "cell_type": "markdown",
      "metadata": {},
      "source": [
        "#### Perbandingan kasus terkonfirmasi pada Kyoto dan Osaka"
      ]
    },
    {
      "cell_type": "code",
      "execution_count": 29,
      "metadata": {},
      "outputs": [
        {
          "data": {
            "text/plain": [
              "<AxesSubplot:title={'center':'Confirmed case in Kyoto and Fukuoka by Year'}, xlabel='year'>"
            ]
          },
          "execution_count": 29,
          "metadata": {},
          "output_type": "execute_result"
        },
        {
          "data": {
            "image/png": "[encoded data removed]",
            "text/plain": [
              "<Figure size 640x480 with 1 Axes>"
            ]
          },
          "metadata": {},
          "output_type": "display_data"
        }
      ],
      "source": [
        "#visualize confirmed case in Kyoto and Fukuoka\n",
        "kyoto_fukuoka_df.groupby(['year','prefecture'])['confirmed'].sum().unstack().plot(kind='bar', title='Confirmed case in Kyoto and Fukuoka by Year')"
      ]
    },
    {
      "attachments": {},
      "cell_type": "markdown",
      "metadata": {},
      "source": [
        "#### Perbandingan antara kematian dan kesembuhan pada Kyoto dan Osaka"
      ]
    },
    {
      "cell_type": "code",
      "execution_count": 30,
      "metadata": {},
      "outputs": [
        {
          "name": "stderr",
          "output_type": "stream",
          "text": [
            "/var/folders/96/h0mb68mj6bv5f5b950lyjxt80000gn/T/ipykernel_37882/1850863566.py:2: FutureWarning: Indexing with multiple keys (implicitly converted to a tuple of keys) will be deprecated, use a list instead.\n",
            "  kyoto_fukuoka_df.groupby(['year','prefecture'])['deaths','recovered'].sum().unstack().plot(kind='bar', title='Death and Recovered in Kyoto and Fukuoka by Year')\n"
          ]
        },
        {
          "data": {
            "text/plain": [
              "<AxesSubplot:title={'center':'Death and Recovered in Kyoto and Fukuoka by Year'}, xlabel='year'>"
            ]
          },
          "execution_count": 30,
          "metadata": {},
          "output_type": "execute_result"
        },
        {
          "data": {
            "image/png": "[encoded data removed]",
            "text/plain": [
              "<Figure size 640x480 with 1 Axes>"
            ]
          },
          "metadata": {},
          "output_type": "display_data"
        }
      ],
      "source": [
        "#Compare death and recovered where Kyoto and Fukuoka by year with bar chart\n",
        "kyoto_fukuoka_df.groupby(['year','prefecture'])['deaths','recovered'].sum().unstack().plot(kind='bar', title='Death and Recovered in Kyoto and Fukuoka by Year')"
      ]
    },
    {
      "attachments": {},
      "cell_type": "markdown",
      "metadata": {
        "id": "SwG6_XW03Dwu"
      },
      "source": [
        "## Conclusions, Assumptions, Overall Analysis"
      ]
    },
    {
      "attachments": {},
      "cell_type": "markdown",
      "metadata": {},
      "source": [
        "**Japan**\n",
        "- Pada Negara Jepang, tingkat kasus aktif Covid-19 terbanyak terjadi pada prefektur Tokyo kemudian disusul Osaka diurutan kedua dan Kahagawa diurutan ketiga.\n",
        "- Tahun 2022 merupakan merupakan kasus kematian akibat Covid-19 terbanyak pada Negara jepang.\n",
        "- Angka kesembuhan tiap tahun belum bisa diprediksi dikarenakan hilangnya data pada tahun 2022 dan 2023.\n",
        "- Angka kesembuhan lebih tinggi dari pada kematian setiap tahunnya jika dilihat dari dua tahun terakhir.\n",
        "\n",
        "**Tokyo**\n",
        "- Pada prefektur tokyo tingkat kasus kematian akibat Covid-19 terbanyak terjadi pada tahun 2022\n",
        "- Angka kesembuhan tiap tahun belum bisa diprediksi dikarenakan hilangnya data pada tahun 2022 dan 2023.\n",
        "- Angka kesembuhan lebih tinggi dari pada kematian setiap tahunnya jika dilihat dari dua tahun terakhir.\n",
        "\n",
        "**Kyoto dan Fukuoka**\n",
        "- Kasus kematian akibat Covid-19 terjadi lebih banyak pada prefektur Fukuoka dibandingkan Kyoto dan pada kedua prefektur tersebut pada tahun 2022 juga menjadi tahun dengan kematian terbanyak.\n",
        "- Angka kesembuhan tiap tahun belum bisa diprediksi dikarenakan hilangnya data pada tahun 2022 dan 2023.\n",
        "- Angka kesembuhan lebih tinggi dari kematian pada dua tahun terakhir di prefektur Fukuoka lebih tinggi dari pada Osaka. Hal ini dipengaruhi juga oleh jumlah kasus Covid-19 terkonfirmasi yang lebih banyak pada prefektur Fukuoka dari pada Osaka.\n",
        "\n",
        "**Kesimpulan Singkat**\n",
        "- Setiap prefektur di Jepang memiliki angka kasus Covid-19 tertinggi pada tahun 2022 dan dilihat dari trendnya, angka kesembuhan mungkin lebih tinggi dari pada kematian pada negara Jepang."
      ]
    }
  ],
  "metadata": {
    "colab": {
      "provenance": []
    },
    "kernelspec": {
      "display_name": "Python 3",
      "name": "python3"
    },
    "language_info": {
      "codemirror_mode": {
        "name": "ipython",
        "version": 3
      },
      "file_extension": ".py",
      "mimetype": "text/x-python",
      "name": "python",
      "nbconvert_exporter": "python",
      "pygments_lexer": "ipython3",
      "version": "3.9.13"
    },
    "orig_nbformat": 4
  },
  "nbformat": 4,
  "nbformat_minor": 0
}
